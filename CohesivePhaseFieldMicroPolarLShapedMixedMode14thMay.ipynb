{
 "cells": [
  {
   "cell_type": "code",
   "execution_count": null,
   "id": "c1678e8f",
   "metadata": {},
   "outputs": [],
   "source": [
    "using Gridap        \n",
    "using GridapGmsh\n",
    "using Gridap.Geometry\n",
    "using Gridap.TensorValues\n",
    "using Plots\n",
    "using LinearAlgebra\n",
    "using  Gridap.Fields\n",
    "using  Gridap.CellData\n",
    "using  Gridap.ReferenceFEs  \n",
    "using  Gridap.Fields"
   ]
  },
  {
   "cell_type": "code",
   "execution_count": null,
   "id": "acd200b3",
   "metadata": {},
   "outputs": [],
   "source": [
    "const ϵ3 = TensorValue{2,2}(0.0,-1.0,1.0,0.0) \n",
    "const I2 = TensorValue(1.0,0.0,0.0,1.0)\n",
    "const I1 = VectorValue(0.0,1.0)\n",
    "const p = 1.0"
   ]
  },
  {
   "cell_type": "code",
   "execution_count": null,
   "id": "81917eee",
   "metadata": {},
   "outputs": [],
   "source": [
    "const lsp = 8.0  \n",
    "const Gc = 0.09\n",
    "const η = 1e-10"
   ]
  },
  {
   "cell_type": "code",
   "execution_count": null,
   "id": "1a6a0fd8",
   "metadata": {},
   "outputs": [],
   "source": [
    "function axl(W)\n",
    "-(1/2)*((W)⋅²(ϵ3))\n",
    "end\n",
    "\n",
    "function skew(w)\n",
    "-(ϵ3)*w\n",
    "end"
   ]
  },
  {
   "cell_type": "code",
   "execution_count": null,
   "id": "030fc7f9",
   "metadata": {},
   "outputs": [],
   "source": [
    "function axl_map(W)\n",
    "-(1/2)*(ϵ3⊙W)\n",
    "end"
   ]
  },
  {
   "cell_type": "code",
   "execution_count": null,
   "id": "1bdfd4e4",
   "metadata": {},
   "outputs": [],
   "source": [
    "using LinearAlgebra: norm\n",
    "function  exp_map(A)\n",
    "    ModA = norm(axl_map(A))\n",
    "    if ModA == 0\n",
    "        one(A)\n",
    "   else\n",
    "  one(A) + ((sin(ModA))/(ModA))*A + ((1 - cos(ModA))/(ModA*ModA))*(A⋅A)\n",
    "    end\n",
    "end"
   ]
  },
  {
   "cell_type": "code",
   "execution_count": null,
   "id": "987c866f",
   "metadata": {},
   "outputs": [],
   "source": [
    "F(∇u) = I2 + ∇u'\n",
    "U_bar(Q,F) = Q'⋅F - I2\n",
    "K(Q) = axl((Q')⋅(∇(Q))')\n",
    "dK(∇dθ,Q) = (Q')⋅(∇dθ)\n",
    "DQ(skew_dθ,Q) = skew_dθ⋅Q \n",
    "DU_bar(Q,∇du,dθ,∇u) = Q'⋅∇du' + (skew(dθ)⋅Q)'⋅F(∇u)\n",
    "deg_fun(d) = d*d/(d*d+m*(1-d)*(1+p*(1-d)))   # Written such that d = 0 (damage)\n",
    "g_dash_s_fun(ϕ) = ((ϕ-1)*(ϕ*(2*p+1)+1)*m)/((ϕ*ϕ*(m*p+1)+(ϕ*(m-2)+1))*((ϕ*ϕ*(m*p+1)+(ϕ*(m-2)+1)))) # Written such that d = 0 (damage)"
   ]
  },
  {
   "cell_type": "markdown",
   "id": "a52dbc3b",
   "metadata": {},
   "source": [
    "# Note: User need to create a .msh file before running the code"
   ]
  },
  {
   "cell_type": "code",
   "execution_count": null,
   "id": "1563b41d",
   "metadata": {},
   "outputs": [],
   "source": [
    "model = GmshDiscreteModel(\"LShapeDomain.msh\")\n",
    "writevtk(model,\"LShapeDomain\")"
   ]
  },
  {
   "cell_type": "code",
   "execution_count": null,
   "id": "4ef7a8b1",
   "metadata": {},
   "outputs": [],
   "source": [
    "labels = get_face_labeling(model)"
   ]
  },
  {
   "cell_type": "code",
   "execution_count": null,
   "id": "0429f535",
   "metadata": {},
   "outputs": [],
   "source": [
    "const ν = 0.18\n",
    "const  E = 20000\n",
    "const G = E/(2*(1+ν))"
   ]
  },
  {
   "cell_type": "code",
   "execution_count": null,
   "id": "1311d429",
   "metadata": {},
   "outputs": [],
   "source": [
    "const λ_ps = (E*ν)/((1+ν)*(1-2*ν)) # plane strain\n",
    "const μ = G\n",
    "const λ = λ_ps*(2*μ/(λ_ps+2*μ))\n",
    "const fₜ = 2.7\n",
    "ψ_crit = 0.0002 \n",
    "const F_crit = ψ_crit*lsp/(Gc)\n",
    "const m = 3/(8*F_crit)"
   ]
  },
  {
   "cell_type": "code",
   "execution_count": null,
   "id": "6540448b",
   "metadata": {},
   "outputs": [],
   "source": [
    "const κ = λ + μ\n",
    "const lb = 5.0\n",
    "const γ = 4*μ*lb*lb"
   ]
  },
  {
   "cell_type": "code",
   "execution_count": null,
   "id": "26aa01de",
   "metadata": {},
   "outputs": [],
   "source": [
    "const N = 0.5\n",
    "const μc = μ*N^2/(1 - N^2)"
   ]
  },
  {
   "cell_type": "code",
   "execution_count": null,
   "id": "0ca7204c",
   "metadata": {},
   "outputs": [],
   "source": [
    "function Str_P(Q,∇u)\n",
    "    _U_bar = U_bar(Q,F(∇u))\n",
    "    _U_bar_sym = 0.5*(_U_bar+_U_bar')\n",
    "    _U_bar_asym = 0.5*(_U_bar-_U_bar')\n",
    "    _U_bar_dev = _U_bar_sym - (1/2)*tr(_U_bar_sym)*I2   # for plane strain\n",
    "    _P = 2*μ*(_U_bar_dev) + κ*tr(_U_bar)*I2 + 2*μc*_U_bar_asym\n",
    "    return _P\n",
    "end\n",
    "\n",
    "function Str_P_mod(Q,∇u,s_in)\n",
    "    _gs = deg_fun(s_in)\n",
    "(_gs+η)*Str_P(Q,∇u)  \n",
    "end\n",
    "\n",
    "function DStr_P(Q,∇du,dθ,∇u)\n",
    "    _DU_bar = DU_bar(Q,∇du,dθ,∇u)\n",
    "    _DU_bar_sym = 0.5*(_DU_bar+_DU_bar')\n",
    "    _DU_bar_asym = 0.5*(_DU_bar-_DU_bar')\n",
    "    _DP = 2*μ*(_DU_bar_sym - (1/2)*tr(_DU_bar_sym)*I2) + κ*tr(_DU_bar)*I2 + 2*μc*_DU_bar_asym \n",
    "end\n",
    "\n",
    "function DStr_P_mod(Q,∇du,dθ,∇u,s_in)\n",
    "    _gs = deg_fun(s_in)\n",
    "(_gs+η)*DStr_P(Q,∇du,dθ,∇u)\n",
    "end"
   ]
  },
  {
   "cell_type": "code",
   "execution_count": null,
   "id": "f88ea9d3",
   "metadata": {},
   "outputs": [],
   "source": [
    "function Str_P_c(Q_in)\n",
    "  _K = K(Q_in)\n",
    "   γ*_K \n",
    "end"
   ]
  },
  {
   "cell_type": "code",
   "execution_count": null,
   "id": "6a665218",
   "metadata": {},
   "outputs": [],
   "source": [
    "function QDP_c_θ(∇dθ)\n",
    " QDP_c_θ_out =  γ⋅∇dθ \n",
    "    return QDP_c_θ_out\n",
    "end"
   ]
  },
  {
   "cell_type": "code",
   "execution_count": null,
   "id": "d7036e8f",
   "metadata": {},
   "outputs": [],
   "source": [
    "function project(q,model,dΩ,order)\n",
    "  reffe = ReferenceFE(lagrangian,Float64,order)\n",
    "  V = FESpace(model,reffe,conformity=:L2)\n",
    "  a(u,v) = ∫( u*v )*dΩ\n",
    "  l(v) = ∫( v*q )*dΩ\n",
    "  op = AffineFEOperator(a,l,V,V)\n",
    "  qh = solve(op)\n",
    "  qh\n",
    "end"
   ]
  },
  {
   "cell_type": "code",
   "execution_count": null,
   "id": "1f0b2bd1",
   "metadata": {},
   "outputs": [],
   "source": [
    "function project_vector(q,model,dΩ,order)\n",
    "  reffe = ReferenceFE(lagrangian,VectorValue{2,Float64},order)\n",
    "  V = FESpace(model,reffe,conformity=:L2)\n",
    "  a(u,v) = ∫( u⊙v )*dΩ\n",
    "  l(v) = ∫( v⊙q)*dΩ\n",
    "  op = AffineFEOperator(a,l,V,V)\n",
    "  qh = solve(op)\n",
    "  qh\n",
    "end"
   ]
  },
  {
   "cell_type": "code",
   "execution_count": null,
   "id": "ba224afe",
   "metadata": {},
   "outputs": [],
   "source": [
    "function project_tensor(q,model,dΩ,order)\n",
    "  reffe = ReferenceFE(lagrangian,TensorValue{2,2,Float64,4},order)\n",
    "  V = FESpace(model,reffe,conformity=:L2)\n",
    "  a(u,v) = ∫( u⊙v )*dΩ\n",
    "  l(v) = ∫( v⊙q)*dΩ\n",
    "  op = AffineFEOperator(a,l,V,V)\n",
    "  qh = solve(op)\n",
    "  qh\n",
    "end"
   ]
  },
  {
   "cell_type": "code",
   "execution_count": null,
   "id": "62cbfef1",
   "metadata": {},
   "outputs": [],
   "source": [
    "order = 1\n",
    "degree = 2*order"
   ]
  },
  {
   "cell_type": "code",
   "execution_count": null,
   "id": "66f803b4",
   "metadata": {},
   "outputs": [],
   "source": [
    "Ω = Triangulation(model)\n",
    "dΩ = Measure(Ω,degree)"
   ]
  },
  {
   "cell_type": "code",
   "execution_count": null,
   "id": "c6f0a428",
   "metadata": {},
   "outputs": [],
   "source": [
    "LoadTagId = get_tag_from_name(labels,\"LoadEdge\")\n",
    "Γ_Load = BoundaryTriangulation(model,tags = LoadTagId)\n",
    "dΓ_Load = Measure(Γ_Load,degree)\n",
    "n_Γ_Load = get_normal_vector(Γ_Load)"
   ]
  },
  {
   "cell_type": "code",
   "execution_count": null,
   "id": "f5d3e322",
   "metadata": {},
   "outputs": [],
   "source": [
    "reffe_rot = ReferenceFE(lagrangian,Float64,order)\n",
    "V0_rot = TestFESpace(model,reffe_rot;\n",
    "  conformity=:H1,dirichlet_tags=[\"BottomEdge\"],dirichlet_masks=[(true)])\n",
    "θh  = zero(V0_rot)"
   ]
  },
  {
   "cell_type": "code",
   "execution_count": null,
   "id": "694efca8",
   "metadata": {},
   "outputs": [],
   "source": [
    "reffe_PF = ReferenceFE(lagrangian,Float64,order)\n",
    "V0_PF = TestFESpace(model,reffe_PF;\n",
    "  conformity=:H1)\n",
    "U_PF = TrialFESpace(V0_PF)\n",
    "sh = zero(V0_PF)"
   ]
  },
  {
   "cell_type": "code",
   "execution_count": null,
   "id": "443a6dde",
   "metadata": {},
   "outputs": [],
   "source": [
    "reffe_Disp = ReferenceFE(lagrangian,VectorValue{2,Float64},order)\n",
    "V0_Disp = TestFESpace(model,reffe_Disp;\n",
    "          conformity=:H1,\n",
    "          dirichlet_tags=[\"BottomEdge\",\"LoadEdge\"],\n",
    "          dirichlet_masks=[(true,true),(false,true)])\n",
    "uh = zero(V0_Disp)\n",
    "Y = MultiFieldFESpace([V0_Disp,V0_rot])"
   ]
  },
  {
   "cell_type": "code",
   "execution_count": null,
   "id": "d0841c1a",
   "metadata": {},
   "outputs": [],
   "source": [
    "function  new_EnergyState(ψPlusPrev_in,ψhPos_in)\n",
    "    ψPlus_in = F_crit + F_crit*0.5*(ψhPos_in/F_crit-1 + abs(ψhPos_in/F_crit-1)) \n",
    "    if ψPlus_in  >= ψPlusPrev_in\n",
    "            ψPlus_out = ψPlus_in \n",
    "        else\n",
    "            ψPlus_out = ψPlusPrev_in\n",
    "    end\n",
    "    true,ψPlus_out\n",
    "end"
   ]
  },
  {
   "cell_type": "code",
   "execution_count": null,
   "id": "a8396b7d",
   "metadata": {},
   "outputs": [],
   "source": [
    "using Gridap.MultiField"
   ]
  },
  {
   "cell_type": "code",
   "execution_count": null,
   "id": "08d27efd",
   "metadata": {},
   "outputs": [],
   "source": [
    "function Q(θ_in,Q_init)        \n",
    "Q_upd = exp_map∘(skew(θ_in))⋅Q_init\n",
    "Q_new = project_tensor(Q_upd,model,dΩ,order)\n",
    " return Q_new   \n",
    "end"
   ]
  },
  {
   "cell_type": "code",
   "execution_count": null,
   "id": "c6ce6f99",
   "metadata": {},
   "outputs": [],
   "source": [
    " function ψPos(Q,∇u)\n",
    "     _K = K(Q)\n",
    "    _U_bar = U_bar(Q,F(∇u))\n",
    "    _U_bar_sym = 0.5*(_U_bar+_U_bar')\n",
    "    _U_bar_asym = 0.5*(_U_bar-_U_bar')\n",
    "    _U_bar_dev = _U_bar_sym - (1/2)*tr(_U_bar_sym)*I2   # for plane strain\n",
    "    Pos_Tr_E = 0.5*(tr(_U_bar) + abs(tr(_U_bar)))\n",
    "    ψPlus = (lsp/Gc)*(μ*(_U_bar_dev⊙_U_bar_dev) + 0.5*κ*Pos_Tr_E*Pos_Tr_E + μc*(_U_bar_asym⊙_U_bar_asym) + 0.5*γ*(_K⊙_K))\n",
    "    return ψPlus\n",
    "end"
   ]
  },
  {
   "cell_type": "code",
   "execution_count": null,
   "id": "47b129db",
   "metadata": {},
   "outputs": [],
   "source": [
    " function   stepDisp(uh_in,θh_in,uApp,cache,Q_old,sh_in)\n",
    "nls = NLSolver(\n",
    "  show_trace=true, method=:newton, iterations = 10, linesearch=BackTracking())\n",
    "solver = FESolver(nls)\n",
    "uApp1(x) = VectorValue(0.0,0.0)\n",
    "uApp2(x) = VectorValue(0.0,uApp)\n",
    "U_Disp = TrialFESpace(V0_Disp,[uApp1,uApp2])\n",
    "θ_App1(x) = 0.0\n",
    "U_Rot = TrialFESpace(V0_rot,θ_App1)\n",
    "res((u,θ),(v,ϕ)) = ∫( ((∇(v))') ⊙ (Q(θ-θh_in_FE,Q_old)⋅(Str_P_mod∘(Q(θ-θh_in_FE,Q_old),∇(u),sh_in) )))*dΩ - ∫(ϕ⊙((ϵ3)⊙(F∘(∇(u))⋅((Q(θ-θh_in_FE,Q_old)⋅((Str_P_mod∘(Q(θ-θh_in_FE,Q_old),∇(u),sh_in))) )'))))dΩ +  ∫((∇(ϕ))⊙(Q(θ-θh_in_FE,Q_old)⋅((deg_fun(sh_in)+η)*Str_P_c(Q(θ-θh_in_FE,Q_old)))))dΩ\n",
    "\n",
    "jac_disp((u,θ),(du,dθ),(v,ϕ)) = ∫( ((∇(v))') ⊙ (Q(θ-θh_in_FE,Q_old)⋅(DStr_P_mod(Q(θ-θh_in_FE,Q_old),∇(du),dθ,∇(u),sh_in) )))*dΩ + ∫( ((∇(v))') ⊙ (skew(dθ)⋅Q(θ-θh_in_FE,Q_old)⋅(Str_P_mod∘(Q(θ-θh_in_FE,Q_old),∇(u),sh_in) )))*dΩ \n",
    "jac_rot((u,θ),(du,dθ),(v,ϕ)) = ∫((∇(ϕ))⊙((skew(dθ)⋅Q(θ-θh_in_FE,Q_old)⋅((deg_fun(sh_in)+η)*Str_P_c(Q(θ-θh_in_FE,Q_old)))) + ((deg_fun(sh_in)+η)*(QDP_c_θ∘(∇(dθ))))))*dΩ -∫(ϕ⊙((ϵ3)⊙(F∘(∇(u))⋅((skew(dθ)⋅Q(θ-θh_in_FE,Q_old)⋅(Str_P_mod∘(Q(θ-θh_in_FE,Q_old),∇(u),sh_in)) + Q(θ-θh_in_FE,Q_old)⋅(DStr_P_mod(Q(θ-θh_in_FE,Q_old),∇(du),dθ,∇(u),sh_in)))'+ ∇(du)'⋅(Q(θ-θh_in_FE,Q_old)⋅(Str_P_mod∘(Q(θ-θh_in_FE,Q_old),∇(u),sh_in)))' ) )))dΩ \n",
    "jac((u,θ),(du,dθ),(v,ϕ)) = jac_disp((u,θ),(du,dθ),(v,ϕ)) + jac_rot((u,θ),(du,dθ),(v,ϕ))\n",
    "X = MultiFieldFESpace([U_Disp, U_Rot])\n",
    "Num_Free_DOF = num_free_dofs(X)\n",
    "free_values = zeros(Num_Free_DOF)\n",
    "Num_Free_DOF_Disp = num_free_dofs(U_Disp) \n",
    "free_values[1:Int(Num_Free_DOF_Disp)] = uh_in\n",
    "free_values[Int(Num_Free_DOF_Disp)+1:Num_Free_DOF] = θh_in\n",
    "xh_in = FEFunction(X, free_values)  \n",
    "θh_in_FE = FEFunction(U_Rot, θh_in)      \n",
    "\n",
    "\n",
    "op = FEOperator(res,jac,X,Y)\n",
    "xh, cache = solve!(xh_in,solver,op,cache)\n",
    "uh_out,θh_out = xh\n",
    " Δθh = θh_out-θh_in_FE\n",
    "Q_old = Q(Δθh,Q_old)\n",
    "        return get_free_dof_values(uh_out),get_free_dof_values(θh_out), cache, uh_out, θh_out, Q_old\n",
    "end  "
   ]
  },
  {
   "cell_type": "code",
   "execution_count": null,
   "id": "d252210d",
   "metadata": {},
   "outputs": [],
   "source": [
    "function  stepPhaseField(ψPlusPrev_in,s_in,cache)\n",
    "res_PF(s,ϕ) = ∫( (3/4)*lsp*lsp*∇(ϕ)⋅∇(s) - (g_dash_s_fun(1-s))*ψPlusPrev_in*ϕ - (3/8)*ϕ )*dΩ  \n",
    "op_PF = FEOperator(res_PF,U_PF,V0_PF)\n",
    "nls = NLSolver(\n",
    "show_trace=true, method=:newton, iterations = 30, linesearch=BackTracking())\n",
    "solver = FESolver(nls)\n",
    "\n",
    "sh_out = FEFunction(U_PF,s_in)\n",
    "sh_out, cache = solve!(sh_out,solver,op_PF,cache)\n",
    "  return sh_out, get_free_dof_values(sh_out), cache\n",
    "end"
   ]
  },
  {
   "cell_type": "code",
   "execution_count": null,
   "id": "63dfaae9",
   "metadata": {},
   "outputs": [],
   "source": [
    "using LineSearches: BackTracking"
   ]
  },
  {
   "cell_type": "code",
   "execution_count": null,
   "id": "e30ba5be",
   "metadata": {},
   "outputs": [],
   "source": [
    "uApp = 0.0\n",
    "delu = 3e-3\n",
    "uAppMax = 0.6\n",
    "const innerMax = 10\n",
    "count = 0\n",
    "sh_in = ones(Float64,num_free_dofs(V0_PF))\n",
    "sPrev = CellState(1.0,dΩ)\n",
    "sh = project(sPrev,model,dΩ,order)\n",
    "cache_pf = nothing\n",
    "cache = nothing\n",
    "uh_in = get_free_dof_values(uh) \n",
    "θh_in =  get_free_dof_values(θh) \n",
    "Q_init = Q(θh,I2)\n",
    "ψPlusPrev = CellState(F_crit,dΩ)\n",
    "Load = Float64[]\n",
    "Displacement = Float64[]\n",
    "uh_in_FE = uh\n",
    "while uApp .< uAppMax \n",
    "\n",
    "    uApp = uApp .+ delu  \n",
    "    count = count .+ 1\n",
    "    print(\"\\n Entering displacemtent step :\", float(uApp))\n",
    "    \n",
    "       \n",
    "   for inner = 1:innerMax\n",
    "        ψhPlusPrev = project(ψPlusPrev,model,dΩ,order)\n",
    "        e = uh - uh_in_FE\n",
    "         err = sqrt(sum( ∫( e⊙e )*dΩ ))\n",
    "        print(\"\\n error = \",float(err))\n",
    "        uh_in_FE = uh\n",
    "        sh,sh_in,cache_pf = stepPhaseField(ψhPlusPrev,sh_in,cache_pf)   \n",
    "    uh_in, θh_in, cache, uh, θh, Q_init = stepDisp(uh_in,θh_in,uApp,cache,Q_init,sh)\n",
    "         ψhPos_in = ψPos(Q_init,∇(uh))\n",
    "        update_state!(new_EnergyState,ψPlusPrev,ψhPos_in) \n",
    "        if err < 1e-8\n",
    "            break \n",
    "        end  \n",
    "    end\n",
    "     Node_Force = sum(∫( n_Γ_Load ⋅ (Str_P_mod(Q_init,∇(uh),sh)) ) *dΓ_Load)\n",
    "    print(\"\\n Load is :\", float(abs(Node_Force[2])))\n",
    "    push!(Load, abs(Node_Force[2]))\n",
    "    push!(Displacement, uApp)\n",
    "    \n",
    "     if mod(count,5)  == 0\n",
    "writevtk(Ω,\"results_MicroPolarLShaped$count\",cellfields=\n",
    "        [\"uh\"=>uh ,\"sigma\"=>Str_P_mod(Q_init,∇(uh),sh),\"θh\"=>θh,\"s\"=>sh])\n",
    "    end\n",
    "end"
   ]
  },
  {
   "cell_type": "code",
   "execution_count": null,
   "id": "ed055246",
   "metadata": {},
   "outputs": [],
   "source": [
    "plot(Displacement,Load*0.1)"
   ]
  },
  {
   "cell_type": "code",
   "execution_count": null,
   "id": "448219cf",
   "metadata": {},
   "outputs": [],
   "source": [
    "using DelimitedFiles\n",
    "Disp = writedlm(\"LShapedCohesiveMicroPolarNp5lb5Psi20.csv\",  [Displacement Load], ',')"
   ]
  }
 ],
 "metadata": {
  "kernelspec": {
   "display_name": "Julia 1.7.2",
   "language": "julia",
   "name": "julia-1.7"
  },
  "language_info": {
   "file_extension": ".jl",
   "mimetype": "application/julia",
   "name": "julia",
   "version": "1.7.2"
  }
 },
 "nbformat": 4,
 "nbformat_minor": 5
}
